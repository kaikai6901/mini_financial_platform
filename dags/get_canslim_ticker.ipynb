{
 "cells": [
  {
   "cell_type": "code",
   "execution_count": 1,
   "metadata": {},
   "outputs": [],
   "source": [
    "import requests\n",
    "from scripts.utils.helper import *\n",
    "from scripts.utils.config import dbInfor\n",
    "import numpy as np\n",
    "import pandas as pd\n",
    "import pymysql\n",
    "import sqlalchemy\n",
    "import sys\n",
    "from datetime import datetime, timedelta\n",
    "\n",
    "con = get_mysql_connection()\n",
    "query_ticker = \"select distinct ticker from ticker_overview\"\n",
    "list_ticker = get_data_from_mysql(con, query_ticker)"
   ]
  },
  {
   "cell_type": "code",
   "execution_count": 2,
   "metadata": {},
   "outputs": [],
   "source": [
    "## get date of x session before\n",
    "def get_day_session_before(con, day, x):\n",
    "    query = f\"SELECT date FROM price_board WHERE ticker = 'FPT' AND date < '{day}' ORDER BY date DESC LIMIT {x}, 1\"\n",
    "    date = get_data_from_mysql(con, query)\n",
    "    return str(date.iloc[0]['date'].date())"
   ]
  },
  {
   "cell_type": "code",
   "execution_count": 4,
   "metadata": {},
   "outputs": [],
   "source": [
    "day = str(datetime.strptime(\"2022-02-23\", \"%Y-%m-%d\").date())"
   ]
  },
  {
   "cell_type": "code",
   "execution_count": 4,
   "metadata": {},
   "outputs": [],
   "source": [
    "day = str((datetime.today() - timedelta(days=1)).date())"
   ]
  },
  {
   "cell_type": "code",
   "execution_count": 5,
   "metadata": {},
   "outputs": [],
   "source": [
    "day_65 = get_day_session_before(con, day, 65)\n",
    "day_130 = get_day_session_before(con, day, 130)\n",
    "day_260 = get_day_session_before(con, day, 260)"
   ]
  },
  {
   "cell_type": "code",
   "execution_count": 6,
   "metadata": {},
   "outputs": [],
   "source": [
    "query = f\"\"\"\n",
    "    SELECT ticker,\n",
    "        max(CASE WHEN date = '{day}' THEN close END) as c,\n",
    "        max(CASE WHEN date = '{day_65}' THEN close END) AS c_65,\n",
    "        max(CASE WHEN date = '{day_130}' THEN close END) AS c_130,\n",
    "        max(CASE WHEN date = '{day_260}' THEN close END) AS c_260\n",
    "    FROM price_board\n",
    "    where date = '{day}' or date = '{day_65}' or date = '{day_130}' or date = '{day_260}'\n",
    "    group by ticker\n",
    "    \"\"\"\n",
    "rsidb = get_data_from_mysql(con, query)"
   ]
  },
  {
   "cell_type": "code",
   "execution_count": 7,
   "metadata": {},
   "outputs": [],
   "source": [
    "list_ticker = get_data_from_mysql(con,\"\"\"select distinct t1.ticker from (price_board as t1 join (select ticker from ticker_overview where comGroupCode = \"VNINDEX\") as t2 on t1.ticker = t2.ticker)\"\"\")"
   ]
  },
  {
   "cell_type": "code",
   "execution_count": 8,
   "metadata": {},
   "outputs": [],
   "source": [
    "rsidb = rsidb.dropna(subset=['c', 'c_65', 'c_130', 'c_260'])"
   ]
  },
  {
   "cell_type": "code",
   "execution_count": 9,
   "metadata": {},
   "outputs": [],
   "source": [
    "rsidb['roc_65'] = (rsidb['c'] - rsidb['c_65']) / rsidb['c_65']\n",
    "rsidb['roc_130'] = (rsidb['c'] - rsidb['c_130']) / rsidb['c_130']\n",
    "rsidb['roc_260'] = (rsidb['c'] - rsidb['c_260']) / rsidb['c_260']\n",
    "rsidb['score'] = 0.4 * rsidb['roc_65'] + 0.3 * rsidb['roc_130'] + 0.3 * rsidb['roc_260']"
   ]
  },
  {
   "cell_type": "code",
   "execution_count": 10,
   "metadata": {},
   "outputs": [],
   "source": [
    "df_all = rsidb.merge(list_ticker, on='ticker')"
   ]
  },
  {
   "cell_type": "code",
   "execution_count": 11,
   "metadata": {},
   "outputs": [],
   "source": [
    "df_all['rank'] = df_all['score'].rank()"
   ]
  },
  {
   "cell_type": "code",
   "execution_count": 12,
   "metadata": {},
   "outputs": [],
   "source": [
    "n = len(df_all)"
   ]
  },
  {
   "cell_type": "code",
   "execution_count": 13,
   "metadata": {},
   "outputs": [],
   "source": [
    "df_all['rank'] = df_all['rank'].apply(lambda x: int((x-1)/n * 100))"
   ]
  },
  {
   "cell_type": "code",
   "execution_count": 15,
   "metadata": {},
   "outputs": [
    {
     "data": {
      "text/html": [
       "<div>\n",
       "<style scoped>\n",
       "    .dataframe tbody tr th:only-of-type {\n",
       "        vertical-align: middle;\n",
       "    }\n",
       "\n",
       "    .dataframe tbody tr th {\n",
       "        vertical-align: top;\n",
       "    }\n",
       "\n",
       "    .dataframe thead th {\n",
       "        text-align: right;\n",
       "    }\n",
       "</style>\n",
       "<table border=\"1\" class=\"dataframe\">\n",
       "  <thead>\n",
       "    <tr style=\"text-align: right;\">\n",
       "      <th></th>\n",
       "      <th>ticker</th>\n",
       "      <th>c</th>\n",
       "      <th>c_65</th>\n",
       "      <th>c_130</th>\n",
       "      <th>c_260</th>\n",
       "      <th>roc_65</th>\n",
       "      <th>roc_130</th>\n",
       "      <th>roc_260</th>\n",
       "      <th>score</th>\n",
       "      <th>rank</th>\n",
       "    </tr>\n",
       "  </thead>\n",
       "  <tbody>\n",
       "    <tr>\n",
       "      <th>114</th>\n",
       "      <td>FPT</td>\n",
       "      <td>75916.0</td>\n",
       "      <td>79426.0</td>\n",
       "      <td>75765.0</td>\n",
       "      <td>44146.0</td>\n",
       "      <td>-0.044192</td>\n",
       "      <td>0.001993</td>\n",
       "      <td>0.719658</td>\n",
       "      <td>0.198818</td>\n",
       "      <td>41</td>\n",
       "    </tr>\n",
       "  </tbody>\n",
       "</table>\n",
       "</div>"
      ],
      "text/plain": [
       "    ticker        c     c_65    c_130    c_260    roc_65   roc_130   roc_260  \\\n",
       "114    FPT  75916.0  79426.0  75765.0  44146.0 -0.044192  0.001993  0.719658   \n",
       "\n",
       "        score  rank  \n",
       "114  0.198818    41  "
      ]
     },
     "execution_count": 15,
     "metadata": {},
     "output_type": "execute_result"
    }
   ],
   "source": [
    "df_all[df_all['ticker'] == 'FPT']"
   ]
  },
  {
   "cell_type": "code",
   "execution_count": 16,
   "metadata": {},
   "outputs": [],
   "source": [
    "eps_growth_query = \"\"\"\n",
    "    select t1.ticker, (eps - pre_eps) / pre_eps * 100 as growth_eps from\n",
    "(select ticker, max(year) as year, max(quarter) as quarter, earningPerShare as eps\n",
    "from financial_ratio\n",
    "where quarter < 5\n",
    "group by ticker) as t1\n",
    "join \n",
    "(select ticker,year, quarter, earningPerShare as pre_eps\n",
    "from financial_ratio\n",
    ") as t2\n",
    "on t2.year = t1.year -1 and t1.quarter = t2.quarter and t1.ticker = t2.ticker\n",
    "\"\"\""
   ]
  },
  {
   "cell_type": "code",
   "execution_count": 17,
   "metadata": {},
   "outputs": [],
   "source": [
    "eps_growth = get_data_from_mysql(con, eps_growth_query)"
   ]
  },
  {
   "cell_type": "code",
   "execution_count": 18,
   "metadata": {},
   "outputs": [],
   "source": [
    "df_all = df_all.merge(eps_growth[eps_growth['growth_eps'] >= 10], on='ticker')"
   ]
  },
  {
   "cell_type": "code",
   "execution_count": 19,
   "metadata": {},
   "outputs": [],
   "source": [
    "profit_growth_query = \"\"\"\n",
    "select t1.ticker, (profit - pre_profit) / pre_profit * 100 as growth_profit from\n",
    "(select ticker, max(year) as year, postTaxProfit as profit\n",
    "from income_statement\n",
    "where quarter = 5\n",
    "group by ticker) as t1\n",
    "join\n",
    "(select ticker, year, postTaxProfit as pre_profit\n",
    "from income_statement\n",
    "where quarter = 5) as t2\n",
    "on t2.year = t1.year - 3 and t1.ticker = t2.ticker\n",
    "\"\"\""
   ]
  },
  {
   "cell_type": "code",
   "execution_count": 20,
   "metadata": {},
   "outputs": [],
   "source": [
    "profit_growth = get_data_from_mysql(con, profit_growth_query)"
   ]
  },
  {
   "cell_type": "code",
   "execution_count": 21,
   "metadata": {},
   "outputs": [],
   "source": [
    "df_all = df_all.merge(profit_growth[profit_growth['growth_profit'] > 10], on='ticker')"
   ]
  },
  {
   "cell_type": "code",
   "execution_count": 22,
   "metadata": {},
   "outputs": [],
   "source": [
    "roe_query = \"\"\"\n",
    "select ticker, max(year) as year, max(quarter) as quarter, roe\n",
    "from financial_ratio\n",
    "group by ticker\n",
    "\"\"\"\n",
    "roe = get_data_from_mysql(con, roe_query)"
   ]
  },
  {
   "cell_type": "code",
   "execution_count": 23,
   "metadata": {},
   "outputs": [],
   "source": [
    "df_all = df_all.merge(roe[roe['roe'] >= 0.10], on='ticker')"
   ]
  },
  {
   "cell_type": "code",
   "execution_count": 25,
   "metadata": {},
   "outputs": [],
   "source": [
    "pre_month = str((datetime.strptime(\"2022-02-23\", \"%Y-%m-%d\") - timedelta(days=30)).date())"
   ]
  },
  {
   "cell_type": "code",
   "execution_count": 31,
   "metadata": {},
   "outputs": [],
   "source": [
    "avg_volume_query = f\"\"\"\n",
    "select ticker, avg(volume) as volume from price_board\n",
    "where date > '{pre_month}' and date <= '{day}'\n",
    "group by ticker\n",
    "\"\"\"\n",
    "avg_volume = get_data_from_mysql(con, avg_volume_query)"
   ]
  },
  {
   "cell_type": "code",
   "execution_count": 33,
   "metadata": {},
   "outputs": [],
   "source": [
    "df_all = df_all.merge(avg_volume[avg_volume['volume'] > 1000], on='ticker')"
   ]
  },
  {
   "cell_type": "code",
   "execution_count": 34,
   "metadata": {},
   "outputs": [
    {
     "data": {
      "text/html": [
       "<div>\n",
       "<style scoped>\n",
       "    .dataframe tbody tr th:only-of-type {\n",
       "        vertical-align: middle;\n",
       "    }\n",
       "\n",
       "    .dataframe tbody tr th {\n",
       "        vertical-align: top;\n",
       "    }\n",
       "\n",
       "    .dataframe thead th {\n",
       "        text-align: right;\n",
       "    }\n",
       "</style>\n",
       "<table border=\"1\" class=\"dataframe\">\n",
       "  <thead>\n",
       "    <tr style=\"text-align: right;\">\n",
       "      <th></th>\n",
       "      <th>ticker</th>\n",
       "      <th>c</th>\n",
       "      <th>c_65</th>\n",
       "      <th>c_130</th>\n",
       "      <th>c_260</th>\n",
       "      <th>roc_65</th>\n",
       "      <th>roc_130</th>\n",
       "      <th>roc_260</th>\n",
       "      <th>score</th>\n",
       "      <th>rank</th>\n",
       "      <th>growth_eps</th>\n",
       "      <th>growth_profit</th>\n",
       "      <th>year</th>\n",
       "      <th>quarter</th>\n",
       "      <th>roe</th>\n",
       "      <th>volume</th>\n",
       "    </tr>\n",
       "  </thead>\n",
       "  <tbody>\n",
       "    <tr>\n",
       "      <th>0</th>\n",
       "      <td>HAG</td>\n",
       "      <td>11250.0</td>\n",
       "      <td>8150.0</td>\n",
       "      <td>5250.0</td>\n",
       "      <td>4500.0</td>\n",
       "      <td>0.380368</td>\n",
       "      <td>1.142857</td>\n",
       "      <td>1.500000</td>\n",
       "      <td>0.945004</td>\n",
       "      <td>88</td>\n",
       "      <td>389.898990</td>\n",
       "      <td>1266.6667</td>\n",
       "      <td>2022</td>\n",
       "      <td>5</td>\n",
       "      <td>0.196</td>\n",
       "      <td>18531564.7059</td>\n",
       "    </tr>\n",
       "    <tr>\n",
       "      <th>1</th>\n",
       "      <td>HAS</td>\n",
       "      <td>11920.0</td>\n",
       "      <td>12264.0</td>\n",
       "      <td>12068.0</td>\n",
       "      <td>8147.0</td>\n",
       "      <td>-0.028050</td>\n",
       "      <td>-0.012264</td>\n",
       "      <td>0.463115</td>\n",
       "      <td>0.124036</td>\n",
       "      <td>25</td>\n",
       "      <td>301.604278</td>\n",
       "      <td>60.0000</td>\n",
       "      <td>2022</td>\n",
       "      <td>5</td>\n",
       "      <td>0.127</td>\n",
       "      <td>1729.4118</td>\n",
       "    </tr>\n",
       "    <tr>\n",
       "      <th>2</th>\n",
       "      <td>ITA</td>\n",
       "      <td>16700.0</td>\n",
       "      <td>11350.0</td>\n",
       "      <td>6510.0</td>\n",
       "      <td>5980.0</td>\n",
       "      <td>0.471366</td>\n",
       "      <td>1.565284</td>\n",
       "      <td>1.792642</td>\n",
       "      <td>1.195924</td>\n",
       "      <td>94</td>\n",
       "      <td>29.677419</td>\n",
       "      <td>32.5301</td>\n",
       "      <td>2022</td>\n",
       "      <td>5</td>\n",
       "      <td>0.196</td>\n",
       "      <td>9670076.4706</td>\n",
       "    </tr>\n",
       "    <tr>\n",
       "      <th>3</th>\n",
       "      <td>ITD</td>\n",
       "      <td>15550.0</td>\n",
       "      <td>20894.0</td>\n",
       "      <td>17099.0</td>\n",
       "      <td>9375.0</td>\n",
       "      <td>-0.255767</td>\n",
       "      <td>-0.090590</td>\n",
       "      <td>0.658667</td>\n",
       "      <td>0.068116</td>\n",
       "      <td>17</td>\n",
       "      <td>78.382148</td>\n",
       "      <td>30.2326</td>\n",
       "      <td>2022</td>\n",
       "      <td>5</td>\n",
       "      <td>0.284</td>\n",
       "      <td>137664.7059</td>\n",
       "    </tr>\n",
       "    <tr>\n",
       "      <th>4</th>\n",
       "      <td>QCG</td>\n",
       "      <td>14100.0</td>\n",
       "      <td>10250.0</td>\n",
       "      <td>7000.0</td>\n",
       "      <td>7170.0</td>\n",
       "      <td>0.375610</td>\n",
       "      <td>1.014286</td>\n",
       "      <td>0.966527</td>\n",
       "      <td>0.744488</td>\n",
       "      <td>81</td>\n",
       "      <td>31.914894</td>\n",
       "      <td>27.7228</td>\n",
       "      <td>2022</td>\n",
       "      <td>5</td>\n",
       "      <td>0.180</td>\n",
       "      <td>1229488.2353</td>\n",
       "    </tr>\n",
       "    <tr>\n",
       "      <th>5</th>\n",
       "      <td>SFG</td>\n",
       "      <td>18521.0</td>\n",
       "      <td>16299.0</td>\n",
       "      <td>11903.0</td>\n",
       "      <td>7162.0</td>\n",
       "      <td>0.136327</td>\n",
       "      <td>0.555994</td>\n",
       "      <td>1.586009</td>\n",
       "      <td>0.697132</td>\n",
       "      <td>79</td>\n",
       "      <td>115.833333</td>\n",
       "      <td>950.0000</td>\n",
       "      <td>2022</td>\n",
       "      <td>5</td>\n",
       "      <td>0.149</td>\n",
       "      <td>36505.8824</td>\n",
       "    </tr>\n",
       "    <tr>\n",
       "      <th>6</th>\n",
       "      <td>SJS</td>\n",
       "      <td>85100.0</td>\n",
       "      <td>68100.0</td>\n",
       "      <td>64900.0</td>\n",
       "      <td>32700.0</td>\n",
       "      <td>0.249633</td>\n",
       "      <td>0.311248</td>\n",
       "      <td>1.602446</td>\n",
       "      <td>0.673962</td>\n",
       "      <td>78</td>\n",
       "      <td>300.936768</td>\n",
       "      <td>52.6316</td>\n",
       "      <td>2022</td>\n",
       "      <td>5</td>\n",
       "      <td>0.360</td>\n",
       "      <td>35452.9412</td>\n",
       "    </tr>\n",
       "    <tr>\n",
       "      <th>7</th>\n",
       "      <td>SPM</td>\n",
       "      <td>18607.0</td>\n",
       "      <td>20251.0</td>\n",
       "      <td>12968.0</td>\n",
       "      <td>12310.0</td>\n",
       "      <td>-0.081181</td>\n",
       "      <td>0.434840</td>\n",
       "      <td>0.511535</td>\n",
       "      <td>0.251440</td>\n",
       "      <td>49</td>\n",
       "      <td>483.754266</td>\n",
       "      <td>122.2222</td>\n",
       "      <td>2022</td>\n",
       "      <td>5</td>\n",
       "      <td>0.519</td>\n",
       "      <td>4058.8235</td>\n",
       "    </tr>\n",
       "    <tr>\n",
       "      <th>8</th>\n",
       "      <td>TCR</td>\n",
       "      <td>7500.0</td>\n",
       "      <td>6500.0</td>\n",
       "      <td>3880.0</td>\n",
       "      <td>3860.0</td>\n",
       "      <td>0.153846</td>\n",
       "      <td>0.932990</td>\n",
       "      <td>0.943005</td>\n",
       "      <td>0.624337</td>\n",
       "      <td>76</td>\n",
       "      <td>460.679612</td>\n",
       "      <td>637.5000</td>\n",
       "      <td>2022</td>\n",
       "      <td>5</td>\n",
       "      <td>0.132</td>\n",
       "      <td>18300.0000</td>\n",
       "    </tr>\n",
       "    <tr>\n",
       "      <th>9</th>\n",
       "      <td>TRC</td>\n",
       "      <td>45451.0</td>\n",
       "      <td>44483.0</td>\n",
       "      <td>33568.0</td>\n",
       "      <td>32731.0</td>\n",
       "      <td>0.021761</td>\n",
       "      <td>0.353998</td>\n",
       "      <td>0.388622</td>\n",
       "      <td>0.231491</td>\n",
       "      <td>47</td>\n",
       "      <td>106.334099</td>\n",
       "      <td>14.4578</td>\n",
       "      <td>2022</td>\n",
       "      <td>5</td>\n",
       "      <td>0.427</td>\n",
       "      <td>3305.8824</td>\n",
       "    </tr>\n",
       "    <tr>\n",
       "      <th>10</th>\n",
       "      <td>VPS</td>\n",
       "      <td>14260.0</td>\n",
       "      <td>16325.0</td>\n",
       "      <td>14837.0</td>\n",
       "      <td>13875.0</td>\n",
       "      <td>-0.126493</td>\n",
       "      <td>-0.038889</td>\n",
       "      <td>0.027748</td>\n",
       "      <td>-0.053940</td>\n",
       "      <td>5</td>\n",
       "      <td>473.262032</td>\n",
       "      <td>24.1379</td>\n",
       "      <td>2022</td>\n",
       "      <td>5</td>\n",
       "      <td>0.145</td>\n",
       "      <td>2176.4706</td>\n",
       "    </tr>\n",
       "    <tr>\n",
       "      <th>11</th>\n",
       "      <td>VTB</td>\n",
       "      <td>11120.0</td>\n",
       "      <td>11763.0</td>\n",
       "      <td>9977.0</td>\n",
       "      <td>10695.0</td>\n",
       "      <td>-0.054663</td>\n",
       "      <td>0.114563</td>\n",
       "      <td>0.039738</td>\n",
       "      <td>0.024425</td>\n",
       "      <td>13</td>\n",
       "      <td>621.445221</td>\n",
       "      <td>43.7500</td>\n",
       "      <td>2022</td>\n",
       "      <td>5</td>\n",
       "      <td>0.157</td>\n",
       "      <td>2664.7059</td>\n",
       "    </tr>\n",
       "  </tbody>\n",
       "</table>\n",
       "</div>"
      ],
      "text/plain": [
       "   ticker        c     c_65    c_130    c_260    roc_65   roc_130   roc_260  \\\n",
       "0     HAG  11250.0   8150.0   5250.0   4500.0  0.380368  1.142857  1.500000   \n",
       "1     HAS  11920.0  12264.0  12068.0   8147.0 -0.028050 -0.012264  0.463115   \n",
       "2     ITA  16700.0  11350.0   6510.0   5980.0  0.471366  1.565284  1.792642   \n",
       "3     ITD  15550.0  20894.0  17099.0   9375.0 -0.255767 -0.090590  0.658667   \n",
       "4     QCG  14100.0  10250.0   7000.0   7170.0  0.375610  1.014286  0.966527   \n",
       "5     SFG  18521.0  16299.0  11903.0   7162.0  0.136327  0.555994  1.586009   \n",
       "6     SJS  85100.0  68100.0  64900.0  32700.0  0.249633  0.311248  1.602446   \n",
       "7     SPM  18607.0  20251.0  12968.0  12310.0 -0.081181  0.434840  0.511535   \n",
       "8     TCR   7500.0   6500.0   3880.0   3860.0  0.153846  0.932990  0.943005   \n",
       "9     TRC  45451.0  44483.0  33568.0  32731.0  0.021761  0.353998  0.388622   \n",
       "10    VPS  14260.0  16325.0  14837.0  13875.0 -0.126493 -0.038889  0.027748   \n",
       "11    VTB  11120.0  11763.0   9977.0  10695.0 -0.054663  0.114563  0.039738   \n",
       "\n",
       "       score  rank  growth_eps growth_profit  year  quarter    roe  \\\n",
       "0   0.945004    88  389.898990     1266.6667  2022        5  0.196   \n",
       "1   0.124036    25  301.604278       60.0000  2022        5  0.127   \n",
       "2   1.195924    94   29.677419       32.5301  2022        5  0.196   \n",
       "3   0.068116    17   78.382148       30.2326  2022        5  0.284   \n",
       "4   0.744488    81   31.914894       27.7228  2022        5  0.180   \n",
       "5   0.697132    79  115.833333      950.0000  2022        5  0.149   \n",
       "6   0.673962    78  300.936768       52.6316  2022        5  0.360   \n",
       "7   0.251440    49  483.754266      122.2222  2022        5  0.519   \n",
       "8   0.624337    76  460.679612      637.5000  2022        5  0.132   \n",
       "9   0.231491    47  106.334099       14.4578  2022        5  0.427   \n",
       "10 -0.053940     5  473.262032       24.1379  2022        5  0.145   \n",
       "11  0.024425    13  621.445221       43.7500  2022        5  0.157   \n",
       "\n",
       "           volume  \n",
       "0   18531564.7059  \n",
       "1       1729.4118  \n",
       "2    9670076.4706  \n",
       "3     137664.7059  \n",
       "4    1229488.2353  \n",
       "5      36505.8824  \n",
       "6      35452.9412  \n",
       "7       4058.8235  \n",
       "8      18300.0000  \n",
       "9       3305.8824  \n",
       "10      2176.4706  \n",
       "11      2664.7059  "
      ]
     },
     "execution_count": 34,
     "metadata": {},
     "output_type": "execute_result"
    }
   ],
   "source": [
    "df_all"
   ]
  },
  {
   "cell_type": "code",
   "execution_count": null,
   "metadata": {},
   "outputs": [],
   "source": [
    "con.close()"
   ]
  },
  {
   "cell_type": "code",
   "execution_count": null,
   "metadata": {},
   "outputs": [],
   "source": []
  }
 ],
 "metadata": {
  "kernelspec": {
   "display_name": "Python 3.9.13 ('base')",
   "language": "python",
   "name": "python3"
  },
  "language_info": {
   "codemirror_mode": {
    "name": "ipython",
    "version": 3
   },
   "file_extension": ".py",
   "mimetype": "text/x-python",
   "name": "python",
   "nbconvert_exporter": "python",
   "pygments_lexer": "ipython3",
   "version": "3.9.13"
  },
  "orig_nbformat": 4,
  "vscode": {
   "interpreter": {
    "hash": "1ae45ef926c2156fad125809675b8c9f08e89217e28e18206c4d9110355a3e92"
   }
  }
 },
 "nbformat": 4,
 "nbformat_minor": 2
}
