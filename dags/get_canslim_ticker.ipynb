{
 "cells": [
  {
   "cell_type": "code",
   "execution_count": 2,
   "metadata": {},
   "outputs": [],
   "source": [
    "import requests\n",
    "from scripts.utils.helper import *\n",
    "from scripts.utils.config import dbInfor\n",
    "import numpy as np\n",
    "import pandas as pd\n",
    "import pymysql\n",
    "import sqlalchemy\n",
    "import sys\n",
    "from datetime import datetime, timedelta\n",
    "\n",
    "con = get_mysql_connection()\n",
    "query_ticker = \"select distinct ticker from ticker_overview\"\n",
    "list_ticker = get_data_from_mysql(con, query_ticker)"
   ]
  },
  {
   "cell_type": "code",
   "execution_count": 3,
   "metadata": {},
   "outputs": [],
   "source": [
    "## get date of x session before\n",
    "def get_day_session_before(con, day, x):\n",
    "    query = f\"SELECT date FROM price_board WHERE ticker = 'FPT' AND date < '{day}' ORDER BY date DESC LIMIT {x}, 1\"\n",
    "    date = get_data_from_mysql(con, query)\n",
    "    return str(date.iloc[0]['date'].date())"
   ]
  },
  {
   "cell_type": "code",
   "execution_count": 4,
   "metadata": {},
   "outputs": [],
   "source": [
    "day = str((datetime.today() - timedelta(days=1)).date())"
   ]
  },
  {
   "cell_type": "code",
   "execution_count": 5,
   "metadata": {},
   "outputs": [],
   "source": [
    "day_65 = get_day_session_before(con, day, 65)\n",
    "day_130 = get_day_session_before(con, day, 130)\n",
    "day_260 = get_day_session_before(con, day, 260)"
   ]
  },
  {
   "cell_type": "code",
   "execution_count": 6,
   "metadata": {},
   "outputs": [],
   "source": [
    "query = f\"\"\"\n",
    "    SELECT ticker,\n",
    "        max(CASE WHEN date = '{day}' THEN close END) as c,\n",
    "        max(CASE WHEN date = '{day_65}' THEN close END) AS c_65,\n",
    "        max(CASE WHEN date = '{day_130}' THEN close END) AS c_130,\n",
    "        max(CASE WHEN date = '{day_260}' THEN close END) AS c_260\n",
    "    FROM price_board\n",
    "    where date = '{day}' or date = '{day_65}' or date = '{day_130}' or date = '{day_260}'\n",
    "    group by ticker\n",
    "    \"\"\"\n",
    "rsidb = get_data_from_mysql(con, query)"
   ]
  },
  {
   "cell_type": "code",
   "execution_count": 7,
   "metadata": {},
   "outputs": [],
   "source": [
    "list_ticker = get_data_from_mysql(con,\"\"\"select distinct t1.ticker from (price_board as t1 join (select ticker from ticker_overview where comGroupCode = \"VNINDEX\") as t2 on t1.ticker = t2.ticker)\"\"\")"
   ]
  },
  {
   "cell_type": "code",
   "execution_count": 8,
   "metadata": {},
   "outputs": [],
   "source": [
    "rsidb = rsidb.dropna(subset=['c', 'c_65', 'c_130', 'c_260'])"
   ]
  },
  {
   "cell_type": "code",
   "execution_count": 9,
   "metadata": {},
   "outputs": [],
   "source": [
    "rsidb['roc_65'] = (rsidb['c'] - rsidb['c_65']) / rsidb['c_65']\n",
    "rsidb['roc_130'] = (rsidb['c'] - rsidb['c_130']) / rsidb['c_130']\n",
    "rsidb['roc_260'] = (rsidb['c'] - rsidb['c_260']) / rsidb['c_260']\n",
    "rsidb['score'] = 0.4 * rsidb['roc_65'] + 0.3 * rsidb['roc_130'] + 0.3 * rsidb['roc_260']"
   ]
  },
  {
   "cell_type": "code",
   "execution_count": 10,
   "metadata": {},
   "outputs": [],
   "source": [
    "df_all = rsidb.merge(list_ticker, on='ticker')"
   ]
  },
  {
   "cell_type": "code",
   "execution_count": 11,
   "metadata": {},
   "outputs": [],
   "source": [
    "df_all['rank'] = df_all['score'].rank()"
   ]
  },
  {
   "cell_type": "code",
   "execution_count": 12,
   "metadata": {},
   "outputs": [],
   "source": [
    "n = len(df_all)"
   ]
  },
  {
   "cell_type": "code",
   "execution_count": 13,
   "metadata": {},
   "outputs": [],
   "source": [
    "df_all['rank'] = df_all['rank'].apply(lambda x: int((x-1)/n * 100))"
   ]
  },
  {
   "cell_type": "code",
   "execution_count": 14,
   "metadata": {},
   "outputs": [],
   "source": [
    "eps_growth_query = \"\"\"\n",
    "    select t1.ticker, (eps - pre_eps) / pre_eps * 100 as growth_eps from\n",
    "(select ticker, max(year) as year, max(quarter) as quarter, earningPerShare as eps\n",
    "from financial_ratio\n",
    "where quarter < 5\n",
    "group by ticker) as t1\n",
    "join \n",
    "(select ticker,year, quarter, earningPerShare as pre_eps\n",
    "from financial_ratio\n",
    ") as t2\n",
    "on t2.year = t1.year -1 and t1.quarter = t2.quarter and t1.ticker = t2.ticker\n",
    "\"\"\""
   ]
  },
  {
   "cell_type": "code",
   "execution_count": 15,
   "metadata": {},
   "outputs": [],
   "source": [
    "eps_growth = get_data_from_mysql(con, eps_growth_query)"
   ]
  },
  {
   "cell_type": "code",
   "execution_count": 18,
   "metadata": {},
   "outputs": [],
   "source": [
    "df_all = df_all.merge(eps_growth[eps_growth['growth_eps'] >= 20], on='ticker')"
   ]
  },
  {
   "cell_type": "code",
   "execution_count": 19,
   "metadata": {},
   "outputs": [],
   "source": [
    "profit_growth_query = \"\"\"\n",
    "select t1.ticker, (profit - pre_profit) / pre_profit * 100 as growth_profit from\n",
    "(select ticker, max(year) as year, postTaxProfit as profit\n",
    "from income_statement\n",
    "where quarter = 5\n",
    "group by ticker) as t1\n",
    "join\n",
    "(select ticker, year, postTaxProfit as pre_profit\n",
    "from income_statement\n",
    "where quarter = 5) as t2\n",
    "on t2.year = t1.year - 3 and t1.ticker = t2.ticker\n",
    "\"\"\""
   ]
  },
  {
   "cell_type": "code",
   "execution_count": 20,
   "metadata": {},
   "outputs": [],
   "source": [
    "profit_growth = get_data_from_mysql(con, profit_growth_query)"
   ]
  },
  {
   "cell_type": "code",
   "execution_count": 23,
   "metadata": {},
   "outputs": [],
   "source": [
    "df_all = df_all.merge(profit_growth[profit_growth['growth_profit'] > 25], on='ticker')"
   ]
  },
  {
   "cell_type": "code",
   "execution_count": 25,
   "metadata": {},
   "outputs": [],
   "source": [
    "roe_query = \"\"\"\n",
    "select ticker, max(year) as year, max(quarter) as quarter, roe\n",
    "from financial_ratio\n",
    "group by ticker\n",
    "\"\"\"\n",
    "roe = get_data_from_mysql(con, roe_query)"
   ]
  },
  {
   "cell_type": "code",
   "execution_count": 27,
   "metadata": {},
   "outputs": [],
   "source": [
    "df_all = df_all.merge(roe[roe['roe'] >= 0.17], on='ticker')"
   ]
  },
  {
   "cell_type": "code",
   "execution_count": 28,
   "metadata": {},
   "outputs": [
    {
     "data": {
      "text/html": [
       "<div>\n",
       "<style scoped>\n",
       "    .dataframe tbody tr th:only-of-type {\n",
       "        vertical-align: middle;\n",
       "    }\n",
       "\n",
       "    .dataframe tbody tr th {\n",
       "        vertical-align: top;\n",
       "    }\n",
       "\n",
       "    .dataframe thead th {\n",
       "        text-align: right;\n",
       "    }\n",
       "</style>\n",
       "<table border=\"1\" class=\"dataframe\">\n",
       "  <thead>\n",
       "    <tr style=\"text-align: right;\">\n",
       "      <th></th>\n",
       "      <th>ticker</th>\n",
       "      <th>c</th>\n",
       "      <th>c_65</th>\n",
       "      <th>c_130</th>\n",
       "      <th>c_260</th>\n",
       "      <th>roc_65</th>\n",
       "      <th>roc_130</th>\n",
       "      <th>roc_260</th>\n",
       "      <th>score</th>\n",
       "      <th>rank</th>\n",
       "      <th>growth_eps</th>\n",
       "      <th>growth_profit</th>\n",
       "      <th>year</th>\n",
       "      <th>quarter</th>\n",
       "      <th>roe</th>\n",
       "    </tr>\n",
       "  </thead>\n",
       "  <tbody>\n",
       "    <tr>\n",
       "      <th>0</th>\n",
       "      <td>CMV</td>\n",
       "      <td>9000.0</td>\n",
       "      <td>7800.0</td>\n",
       "      <td>13396.0</td>\n",
       "      <td>13166.0</td>\n",
       "      <td>0.153846</td>\n",
       "      <td>-0.328158</td>\n",
       "      <td>-0.316421</td>\n",
       "      <td>-0.131835</td>\n",
       "      <td>36</td>\n",
       "      <td>29.947230</td>\n",
       "      <td>27.2727</td>\n",
       "      <td>2022</td>\n",
       "      <td>5</td>\n",
       "      <td>0.331</td>\n",
       "    </tr>\n",
       "    <tr>\n",
       "      <th>1</th>\n",
       "      <td>HAG</td>\n",
       "      <td>7920.0</td>\n",
       "      <td>5930.0</td>\n",
       "      <td>11950.0</td>\n",
       "      <td>12200.0</td>\n",
       "      <td>0.335582</td>\n",
       "      <td>-0.337238</td>\n",
       "      <td>-0.350820</td>\n",
       "      <td>-0.072185</td>\n",
       "      <td>51</td>\n",
       "      <td>389.898990</td>\n",
       "      <td>1266.6667</td>\n",
       "      <td>2022</td>\n",
       "      <td>5</td>\n",
       "      <td>0.196</td>\n",
       "    </tr>\n",
       "    <tr>\n",
       "      <th>2</th>\n",
       "      <td>HRC</td>\n",
       "      <td>53300.0</td>\n",
       "      <td>57000.0</td>\n",
       "      <td>57000.0</td>\n",
       "      <td>54000.0</td>\n",
       "      <td>-0.064912</td>\n",
       "      <td>-0.064912</td>\n",
       "      <td>-0.012963</td>\n",
       "      <td>-0.049327</td>\n",
       "      <td>57</td>\n",
       "      <td>426.438356</td>\n",
       "      <td>900.0000</td>\n",
       "      <td>2022</td>\n",
       "      <td>5</td>\n",
       "      <td>0.425</td>\n",
       "    </tr>\n",
       "    <tr>\n",
       "      <th>3</th>\n",
       "      <td>ITA</td>\n",
       "      <td>4130.0</td>\n",
       "      <td>2590.0</td>\n",
       "      <td>8150.0</td>\n",
       "      <td>15500.0</td>\n",
       "      <td>0.594595</td>\n",
       "      <td>-0.493252</td>\n",
       "      <td>-0.733548</td>\n",
       "      <td>-0.130202</td>\n",
       "      <td>36</td>\n",
       "      <td>29.677419</td>\n",
       "      <td>32.5301</td>\n",
       "      <td>2022</td>\n",
       "      <td>5</td>\n",
       "      <td>0.196</td>\n",
       "    </tr>\n",
       "    <tr>\n",
       "      <th>4</th>\n",
       "      <td>ITD</td>\n",
       "      <td>12050.0</td>\n",
       "      <td>10500.0</td>\n",
       "      <td>12250.0</td>\n",
       "      <td>14800.0</td>\n",
       "      <td>0.147619</td>\n",
       "      <td>-0.016327</td>\n",
       "      <td>-0.185811</td>\n",
       "      <td>-0.001594</td>\n",
       "      <td>68</td>\n",
       "      <td>78.382148</td>\n",
       "      <td>30.2326</td>\n",
       "      <td>2022</td>\n",
       "      <td>5</td>\n",
       "      <td>0.284</td>\n",
       "    </tr>\n",
       "    <tr>\n",
       "      <th>5</th>\n",
       "      <td>QCG</td>\n",
       "      <td>4000.0</td>\n",
       "      <td>3320.0</td>\n",
       "      <td>8950.0</td>\n",
       "      <td>12600.0</td>\n",
       "      <td>0.204819</td>\n",
       "      <td>-0.553073</td>\n",
       "      <td>-0.682540</td>\n",
       "      <td>-0.288756</td>\n",
       "      <td>12</td>\n",
       "      <td>31.914894</td>\n",
       "      <td>27.7228</td>\n",
       "      <td>2022</td>\n",
       "      <td>5</td>\n",
       "      <td>0.180</td>\n",
       "    </tr>\n",
       "    <tr>\n",
       "      <th>6</th>\n",
       "      <td>SJS</td>\n",
       "      <td>45100.0</td>\n",
       "      <td>47200.0</td>\n",
       "      <td>69800.0</td>\n",
       "      <td>82000.0</td>\n",
       "      <td>-0.044492</td>\n",
       "      <td>-0.353868</td>\n",
       "      <td>-0.450000</td>\n",
       "      <td>-0.258957</td>\n",
       "      <td>15</td>\n",
       "      <td>300.936768</td>\n",
       "      <td>52.6316</td>\n",
       "      <td>2022</td>\n",
       "      <td>5</td>\n",
       "      <td>0.360</td>\n",
       "    </tr>\n",
       "    <tr>\n",
       "      <th>7</th>\n",
       "      <td>SPM</td>\n",
       "      <td>56325.0</td>\n",
       "      <td>13041.0</td>\n",
       "      <td>16808.0</td>\n",
       "      <td>18794.0</td>\n",
       "      <td>3.319071</td>\n",
       "      <td>2.351083</td>\n",
       "      <td>1.996967</td>\n",
       "      <td>2.632043</td>\n",
       "      <td>99</td>\n",
       "      <td>483.754266</td>\n",
       "      <td>122.2222</td>\n",
       "      <td>2022</td>\n",
       "      <td>5</td>\n",
       "      <td>0.519</td>\n",
       "    </tr>\n",
       "    <tr>\n",
       "      <th>8</th>\n",
       "      <td>VAF</td>\n",
       "      <td>8582.0</td>\n",
       "      <td>8700.0</td>\n",
       "      <td>13200.0</td>\n",
       "      <td>12210.0</td>\n",
       "      <td>-0.013563</td>\n",
       "      <td>-0.349848</td>\n",
       "      <td>-0.297133</td>\n",
       "      <td>-0.199520</td>\n",
       "      <td>23</td>\n",
       "      <td>199.056604</td>\n",
       "      <td>341.6667</td>\n",
       "      <td>2022</td>\n",
       "      <td>5</td>\n",
       "      <td>0.187</td>\n",
       "    </tr>\n",
       "  </tbody>\n",
       "</table>\n",
       "</div>"
      ],
      "text/plain": [
       "  ticker        c     c_65    c_130    c_260    roc_65   roc_130   roc_260  \\\n",
       "0    CMV   9000.0   7800.0  13396.0  13166.0  0.153846 -0.328158 -0.316421   \n",
       "1    HAG   7920.0   5930.0  11950.0  12200.0  0.335582 -0.337238 -0.350820   \n",
       "2    HRC  53300.0  57000.0  57000.0  54000.0 -0.064912 -0.064912 -0.012963   \n",
       "3    ITA   4130.0   2590.0   8150.0  15500.0  0.594595 -0.493252 -0.733548   \n",
       "4    ITD  12050.0  10500.0  12250.0  14800.0  0.147619 -0.016327 -0.185811   \n",
       "5    QCG   4000.0   3320.0   8950.0  12600.0  0.204819 -0.553073 -0.682540   \n",
       "6    SJS  45100.0  47200.0  69800.0  82000.0 -0.044492 -0.353868 -0.450000   \n",
       "7    SPM  56325.0  13041.0  16808.0  18794.0  3.319071  2.351083  1.996967   \n",
       "8    VAF   8582.0   8700.0  13200.0  12210.0 -0.013563 -0.349848 -0.297133   \n",
       "\n",
       "      score  rank  growth_eps growth_profit  year  quarter    roe  \n",
       "0 -0.131835    36   29.947230       27.2727  2022        5  0.331  \n",
       "1 -0.072185    51  389.898990     1266.6667  2022        5  0.196  \n",
       "2 -0.049327    57  426.438356      900.0000  2022        5  0.425  \n",
       "3 -0.130202    36   29.677419       32.5301  2022        5  0.196  \n",
       "4 -0.001594    68   78.382148       30.2326  2022        5  0.284  \n",
       "5 -0.288756    12   31.914894       27.7228  2022        5  0.180  \n",
       "6 -0.258957    15  300.936768       52.6316  2022        5  0.360  \n",
       "7  2.632043    99  483.754266      122.2222  2022        5  0.519  \n",
       "8 -0.199520    23  199.056604      341.6667  2022        5  0.187  "
      ]
     },
     "execution_count": 28,
     "metadata": {},
     "output_type": "execute_result"
    }
   ],
   "source": [
    "df_all"
   ]
  },
  {
   "cell_type": "code",
   "execution_count": null,
   "metadata": {},
   "outputs": [],
   "source": []
  },
  {
   "cell_type": "code",
   "execution_count": null,
   "metadata": {},
   "outputs": [],
   "source": []
  }
 ],
 "metadata": {
  "kernelspec": {
   "display_name": "Python 3.9.13 ('base')",
   "language": "python",
   "name": "python3"
  },
  "language_info": {
   "codemirror_mode": {
    "name": "ipython",
    "version": 3
   },
   "file_extension": ".py",
   "mimetype": "text/x-python",
   "name": "python",
   "nbconvert_exporter": "python",
   "pygments_lexer": "ipython3",
   "version": "3.9.13"
  },
  "orig_nbformat": 4,
  "vscode": {
   "interpreter": {
    "hash": "1ae45ef926c2156fad125809675b8c9f08e89217e28e18206c4d9110355a3e92"
   }
  }
 },
 "nbformat": 4,
 "nbformat_minor": 2
}
